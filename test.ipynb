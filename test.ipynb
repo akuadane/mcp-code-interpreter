{
 "cells": [
  {
   "cell_type": "code",
   "execution_count": null,
   "id": "4fade0f4",
   "metadata": {},
   "outputs": [],
   "source": [
    "result = 10**2"
   ]
  },
  {
   "cell_type": "code",
   "execution_count": null,
   "id": "07f4fb32",
   "metadata": {},
   "outputs": [],
   "source": [
    "print('result=',result)"
   ]
  }
 ],
 "metadata": {},
 "nbformat": 4,
 "nbformat_minor": 5
}
