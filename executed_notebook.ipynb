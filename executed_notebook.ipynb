{
 "cells": [
  {
   "cell_type": "code",
   "execution_count": 1,
   "id": "4fade0f4",
   "metadata": {
    "execution": {
     "iopub.execute_input": "2025-07-11T15:04:30.647228Z",
     "iopub.status.busy": "2025-07-11T15:04:30.647034Z",
     "iopub.status.idle": "2025-07-11T15:04:30.652019Z",
     "shell.execute_reply": "2025-07-11T15:04:30.651547Z"
    }
   },
   "outputs": [],
   "source": [
    "result = 10**2"
   ]
  },
  {
   "cell_type": "code",
   "execution_count": 2,
   "id": "07f4fb32",
   "metadata": {
    "execution": {
     "iopub.execute_input": "2025-07-11T15:04:30.653495Z",
     "iopub.status.busy": "2025-07-11T15:04:30.653347Z",
     "iopub.status.idle": "2025-07-11T15:04:30.655564Z",
     "shell.execute_reply": "2025-07-11T15:04:30.655254Z"
    }
   },
   "outputs": [
    {
     "name": "stdout",
     "output_type": "stream",
     "text": [
      "result= 100\n"
     ]
    }
   ],
   "source": [
    "print('result=',result)"
   ]
  },
  {
   "cell_type": "code",
   "execution_count": 3,
   "id": "b7df45aa",
   "metadata": {
    "execution": {
     "iopub.execute_input": "2025-07-11T15:04:30.657044Z",
     "iopub.status.busy": "2025-07-11T15:04:30.656900Z",
     "iopub.status.idle": "2025-07-11T15:04:30.661400Z",
     "shell.execute_reply": "2025-07-11T15:04:30.661028Z"
    }
   },
   "outputs": [
    {
     "data": {
      "text/plain": [
       "(2421, 100)"
      ]
     },
     "execution_count": 3,
     "metadata": {},
     "output_type": "execute_result"
    }
   ],
   "source": [
    "1000*2 + 421, 100"
   ]
  }
 ],
 "metadata": {},
 "nbformat": 4,
 "nbformat_minor": 5
}
